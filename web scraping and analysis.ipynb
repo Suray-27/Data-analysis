{
 "cells": [
  {
   "cell_type": "code",
   "execution_count": 4,
   "id": "593b87cb-831d-49b2-ba50-ee877ba2e1c7",
   "metadata": {},
   "outputs": [],
   "source": [
    "# import required libraries\n",
    "\n",
    "from bs4 import BeautifulSoup\n",
    "import requests\n",
    "import pandas as pd\n",
    "import matplotlib.pyplot as plt\n",
    "import numpy as np"
   ]
  },
  {
   "cell_type": "code",
   "execution_count": 57,
   "id": "299ab3bc-dd4f-42ef-a567-9b8719769fb7",
   "metadata": {},
   "outputs": [],
   "source": [
    "# Link of website for scrapping\n",
    "\n",
    "URL = 'https://en.wikipedia.org/wiki/List_of_largest_companies_in_India'"
   ]
  },
  {
   "cell_type": "code",
   "execution_count": 58,
   "id": "0fd83048-da51-4172-a639-90b8e119933e",
   "metadata": {},
   "outputs": [],
   "source": [
    "response = requests.get(URL)"
   ]
  },
  {
   "cell_type": "code",
   "execution_count": 59,
   "id": "a7d4f451-6749-4c3c-908b-d0abe5c7b8c1",
   "metadata": {},
   "outputs": [
    {
     "data": {
      "text/plain": [
       "<Response [200]>"
      ]
     },
     "execution_count": 59,
     "metadata": {},
     "output_type": "execute_result"
    }
   ],
   "source": [
    "# To get response\n",
    "\n",
    "response"
   ]
  },
  {
   "cell_type": "code",
   "execution_count": 60,
   "id": "20dc457c-b203-4ca3-88f7-13e82551dd49",
   "metadata": {},
   "outputs": [],
   "source": [
    "# To get html text\n",
    "\n",
    "soup = BeautifulSoup(response.text,'html')"
   ]
  },
  {
   "cell_type": "code",
   "execution_count": 61,
   "id": "925bfb4e-1907-4fe7-ae06-da51862dc127",
   "metadata": {},
   "outputs": [],
   "source": [
    "# Capture the requried table\n",
    "\n",
    "table = soup.find_all('table')[1]"
   ]
  },
  {
   "cell_type": "code",
   "execution_count": 62,
   "id": "b193eac6-7dbd-40f9-b419-2ef1350606e0",
   "metadata": {},
   "outputs": [],
   "source": [
    "# To gather column data\n",
    "\n",
    "head = table.find_all('th')"
   ]
  },
  {
   "cell_type": "code",
   "execution_count": 63,
   "id": "bc21e4e4-e6ca-4869-a076-8f5e9614e77f",
   "metadata": {},
   "outputs": [],
   "source": [
    "# To remove the unwanted space in text\n",
    "\n",
    "col_name = [co_head.text.strip() for co_head in head]"
   ]
  },
  {
   "cell_type": "code",
   "execution_count": 64,
   "id": "0f0815e6-2371-4e44-af56-24a19aac19d7",
   "metadata": {},
   "outputs": [
    {
     "data": {
      "text/plain": [
       "['Rank',\n",
       " 'Name',\n",
       " 'Industry',\n",
       " 'Revenue(in  ₹ Crore)',\n",
       " 'Revenue growth',\n",
       " 'Profits(in  ₹ Crore)',\n",
       " 'Headquarters',\n",
       " 'State Controlled']"
      ]
     },
     "execution_count": 64,
     "metadata": {},
     "output_type": "execute_result"
    }
   ],
   "source": [
    "col_name"
   ]
  },
  {
   "cell_type": "code",
   "execution_count": 65,
   "id": "d97eb468-e6e1-4839-a390-e2d2e4b41489",
   "metadata": {},
   "outputs": [],
   "source": [
    "# Convert the data into DataFrame\n",
    "\n",
    "top_50 = pd.DataFrame(columns = col_name)"
   ]
  },
  {
   "cell_type": "code",
   "execution_count": 66,
   "id": "5a0ee9ac-02e7-4096-9454-81a6e3f60dda",
   "metadata": {},
   "outputs": [
    {
     "data": {
      "text/html": [
       "<div>\n",
       "<style scoped>\n",
       "    .dataframe tbody tr th:only-of-type {\n",
       "        vertical-align: middle;\n",
       "    }\n",
       "\n",
       "    .dataframe tbody tr th {\n",
       "        vertical-align: top;\n",
       "    }\n",
       "\n",
       "    .dataframe thead th {\n",
       "        text-align: right;\n",
       "    }\n",
       "</style>\n",
       "<table border=\"1\" class=\"dataframe\">\n",
       "  <thead>\n",
       "    <tr style=\"text-align: right;\">\n",
       "      <th></th>\n",
       "      <th>Rank</th>\n",
       "      <th>Name</th>\n",
       "      <th>Industry</th>\n",
       "      <th>Revenue(in  ₹ Crore)</th>\n",
       "      <th>Revenue growth</th>\n",
       "      <th>Profits(in  ₹ Crore)</th>\n",
       "      <th>Headquarters</th>\n",
       "      <th>State Controlled</th>\n",
       "    </tr>\n",
       "  </thead>\n",
       "  <tbody>\n",
       "  </tbody>\n",
       "</table>\n",
       "</div>"
      ],
      "text/plain": [
       "Empty DataFrame\n",
       "Columns: [Rank, Name, Industry, Revenue(in  ₹ Crore), Revenue growth, Profits(in  ₹ Crore), Headquarters, State Controlled]\n",
       "Index: []"
      ]
     },
     "execution_count": 66,
     "metadata": {},
     "output_type": "execute_result"
    }
   ],
   "source": [
    "top_50"
   ]
  },
  {
   "cell_type": "code",
   "execution_count": 67,
   "id": "9257a0c7-74ca-40bd-a20a-106c605a183a",
   "metadata": {},
   "outputs": [],
   "source": [
    "# Extract table row data from required data\n",
    "\n",
    "column_data = table.find_all('tr')"
   ]
  },
  {
   "cell_type": "code",
   "execution_count": 68,
   "id": "f51b170a-0373-40f9-9788-3cebb6a3facd",
   "metadata": {},
   "outputs": [],
   "source": [
    "# Collect the row data and insert into DataFrame\n",
    "\n",
    "for row in column_data[1:]:\n",
    "    row_data = row.find_all('td')\n",
    "    individual_row_data = [data.text.strip() for data in row_data]\n",
    "\n",
    "    length = len(top_50)\n",
    "    top_50.loc[length] = individual_row_data"
   ]
  },
  {
   "cell_type": "code",
   "execution_count": 84,
   "id": "2274e45e-f189-4713-8fef-c34795c04d5d",
   "metadata": {},
   "outputs": [],
   "source": [
    "# Top 5 rows from DataFrame\n",
    "\n",
    "top_50"
   ]
  },
  {
   "cell_type": "code",
   "execution_count": 71,
   "id": "16680a2b-d3f5-4d09-8b45-46a194a781bf",
   "metadata": {},
   "outputs": [],
   "source": [
    "# Export this file as Web_scrape in local disk\n",
    "\n",
    "top_50 = top_50.to_csv(r\"E:\\BA projects\\web_scrape.csv\",index = False)"
   ]
  },
  {
   "cell_type": "code",
   "execution_count": 2,
   "id": "defaa031-82e0-466d-94f3-0dcb8d93f359",
   "metadata": {},
   "outputs": [],
   "source": [
    "# Clean the unrecognisable value of csv file in excel"
   ]
  },
  {
   "cell_type": "code",
   "execution_count": 5,
   "id": "47162f6f-cd16-4861-9750-e5827d8f0c63",
   "metadata": {},
   "outputs": [],
   "source": [
    "# Retrive csv file and declare as df\n",
    "\n",
    "df = pd.read_csv(r\"E:\\BA projects\\web_scrape.csv\")"
   ]
  },
  {
   "cell_type": "code",
   "execution_count": 71,
   "id": "90755c32-fba5-4bb9-9e82-adbf804496a5",
   "metadata": {},
   "outputs": [
    {
     "name": "stdout",
     "output_type": "stream",
     "text": [
      "<class 'pandas.core.frame.DataFrame'>\n",
      "RangeIndex: 50 entries, 0 to 49\n",
      "Data columns (total 8 columns):\n",
      " #   Column             Non-Null Count  Dtype \n",
      "---  ------             --------------  ----- \n",
      " 0   Rank               50 non-null     int64 \n",
      " 1   Name               50 non-null     object\n",
      " 2   Industry           50 non-null     object\n",
      " 3   Revenue(in Crore)  50 non-null     object\n",
      " 4   Revenue growth     50 non-null     object\n",
      " 5   Profits(in Crore)  50 non-null     object\n",
      " 6   Headquarters       50 non-null     object\n",
      " 7   State Controlled   20 non-null     object\n",
      "dtypes: int64(1), object(7)\n",
      "memory usage: 3.3+ KB\n"
     ]
    }
   ],
   "source": [
    "# To identify null value and Datatype\n",
    "\n",
    "df.info()"
   ]
  },
  {
   "cell_type": "code",
   "execution_count": 6,
   "id": "0ba61333-6725-46ff-af65-b5e15754cb78",
   "metadata": {},
   "outputs": [],
   "source": [
    "# Rename the Columns for convienience\n",
    "\n",
    "df.rename(columns = {'Revenue(in Crore)':'Revenue_in_crore','Profits(in Crore)':'Profits_in_crore'},inplace = True)"
   ]
  },
  {
   "cell_type": "code",
   "execution_count": 73,
   "id": "76e7ed1e-0f93-4590-83b5-2c854c576328",
   "metadata": {},
   "outputs": [
    {
     "data": {
      "text/html": [
       "<div>\n",
       "<style scoped>\n",
       "    .dataframe tbody tr th:only-of-type {\n",
       "        vertical-align: middle;\n",
       "    }\n",
       "\n",
       "    .dataframe tbody tr th {\n",
       "        vertical-align: top;\n",
       "    }\n",
       "\n",
       "    .dataframe thead th {\n",
       "        text-align: right;\n",
       "    }\n",
       "</style>\n",
       "<table border=\"1\" class=\"dataframe\">\n",
       "  <thead>\n",
       "    <tr style=\"text-align: right;\">\n",
       "      <th></th>\n",
       "      <th>Rank</th>\n",
       "      <th>Name</th>\n",
       "      <th>Industry</th>\n",
       "      <th>Revenue_in_crore</th>\n",
       "      <th>Revenue growth</th>\n",
       "      <th>Profits_in_crore</th>\n",
       "      <th>Headquarters</th>\n",
       "      <th>State Controlled</th>\n",
       "    </tr>\n",
       "  </thead>\n",
       "  <tbody>\n",
       "    <tr>\n",
       "      <th>0</th>\n",
       "      <td>1</td>\n",
       "      <td>Indian Oil Corporation</td>\n",
       "      <td>Oil and gas</td>\n",
       "      <td>4,24,321</td>\n",
       "      <td>13.20%</td>\n",
       "      <td>22,189</td>\n",
       "      <td>New Delhi</td>\n",
       "      <td>Yes</td>\n",
       "    </tr>\n",
       "    <tr>\n",
       "      <th>1</th>\n",
       "      <td>2</td>\n",
       "      <td>Reliance Industries Limited</td>\n",
       "      <td>Oil and gas</td>\n",
       "      <td>4,10,295</td>\n",
       "      <td>28.20%</td>\n",
       "      <td>36,075</td>\n",
       "      <td>Mumbai</td>\n",
       "      <td>NaN</td>\n",
       "    </tr>\n",
       "    <tr>\n",
       "      <th>2</th>\n",
       "      <td>3</td>\n",
       "      <td>Oil and Natural Gas Corporation</td>\n",
       "      <td>Oil and gas</td>\n",
       "      <td>3,33,143</td>\n",
       "      <td>11.00%</td>\n",
       "      <td>22,106</td>\n",
       "      <td>New Delhi</td>\n",
       "      <td>Yes</td>\n",
       "    </tr>\n",
       "    <tr>\n",
       "      <th>3</th>\n",
       "      <td>4</td>\n",
       "      <td>State Bank of India</td>\n",
       "      <td>Banking</td>\n",
       "      <td>3,06,528</td>\n",
       "      <td>2.60%</td>\n",
       "      <td>-4,556</td>\n",
       "      <td>Mumbai</td>\n",
       "      <td>Yes</td>\n",
       "    </tr>\n",
       "    <tr>\n",
       "      <th>4</th>\n",
       "      <td>5</td>\n",
       "      <td>Tata Motors</td>\n",
       "      <td>Automotive</td>\n",
       "      <td>3,01,175</td>\n",
       "      <td>7.90%</td>\n",
       "      <td>8,989</td>\n",
       "      <td>Mumbai</td>\n",
       "      <td>NaN</td>\n",
       "    </tr>\n",
       "    <tr>\n",
       "      <th>5</th>\n",
       "      <td>6</td>\n",
       "      <td>Bharat Petroleum</td>\n",
       "      <td>Oil and gas</td>\n",
       "      <td>2,38,638</td>\n",
       "      <td>13.70%</td>\n",
       "      <td>9,009</td>\n",
       "      <td>Mumbai</td>\n",
       "      <td>Yes</td>\n",
       "    </tr>\n",
       "    <tr>\n",
       "      <th>6</th>\n",
       "      <td>7</td>\n",
       "      <td>Hindustan Petroleum</td>\n",
       "      <td>Oil and gas</td>\n",
       "      <td>2,21,693</td>\n",
       "      <td>13.40%</td>\n",
       "      <td>7,218</td>\n",
       "      <td>Mumbai</td>\n",
       "      <td>Yes</td>\n",
       "    </tr>\n",
       "    <tr>\n",
       "      <th>7</th>\n",
       "      <td>8</td>\n",
       "      <td>Rajesh Exports</td>\n",
       "      <td>Gems and jewellery</td>\n",
       "      <td>1,87,748</td>\n",
       "      <td>22.50%</td>\n",
       "      <td>1,266</td>\n",
       "      <td>Bangalore</td>\n",
       "      <td>NaN</td>\n",
       "    </tr>\n",
       "    <tr>\n",
       "      <th>8</th>\n",
       "      <td>9</td>\n",
       "      <td>Tata Steel</td>\n",
       "      <td>Iron and steel</td>\n",
       "      <td>1,47,192</td>\n",
       "      <td>25.30%</td>\n",
       "      <td>13,434</td>\n",
       "      <td>Mumbai</td>\n",
       "      <td>NaN</td>\n",
       "    </tr>\n",
       "    <tr>\n",
       "      <th>9</th>\n",
       "      <td>10</td>\n",
       "      <td>Coal India</td>\n",
       "      <td>Metals and mining</td>\n",
       "      <td>1,32,897</td>\n",
       "      <td>5.30%</td>\n",
       "      <td>7,020</td>\n",
       "      <td>Kolkata</td>\n",
       "      <td>Yes</td>\n",
       "    </tr>\n",
       "  </tbody>\n",
       "</table>\n",
       "</div>"
      ],
      "text/plain": [
       "   Rank                             Name            Industry Revenue_in_crore  \\\n",
       "0     1           Indian Oil Corporation         Oil and gas         4,24,321   \n",
       "1     2      Reliance Industries Limited         Oil and gas         4,10,295   \n",
       "2     3  Oil and Natural Gas Corporation         Oil and gas         3,33,143   \n",
       "3     4              State Bank of India             Banking         3,06,528   \n",
       "4     5                      Tata Motors          Automotive         3,01,175   \n",
       "5     6                 Bharat Petroleum         Oil and gas         2,38,638   \n",
       "6     7              Hindustan Petroleum         Oil and gas         2,21,693   \n",
       "7     8                   Rajesh Exports  Gems and jewellery         1,87,748   \n",
       "8     9                       Tata Steel      Iron and steel         1,47,192   \n",
       "9    10                       Coal India   Metals and mining         1,32,897   \n",
       "\n",
       "  Revenue growth Profits_in_crore Headquarters State Controlled  \n",
       "0         13.20%           22,189    New Delhi              Yes  \n",
       "1         28.20%           36,075       Mumbai              NaN  \n",
       "2         11.00%           22,106    New Delhi              Yes  \n",
       "3          2.60%           -4,556       Mumbai              Yes  \n",
       "4          7.90%            8,989       Mumbai              NaN  \n",
       "5         13.70%            9,009       Mumbai              Yes  \n",
       "6         13.40%            7,218       Mumbai              Yes  \n",
       "7         22.50%            1,266    Bangalore              NaN  \n",
       "8         25.30%           13,434       Mumbai              NaN  \n",
       "9          5.30%            7,020      Kolkata              Yes  "
      ]
     },
     "execution_count": 73,
     "metadata": {},
     "output_type": "execute_result"
    }
   ],
   "source": [
    "df.head(10)"
   ]
  },
  {
   "cell_type": "code",
   "execution_count": 7,
   "id": "369600f6-2d03-4edd-884c-80a047fc3402",
   "metadata": {},
   "outputs": [],
   "source": [
    "# Convert Numeric data into float or int\n",
    "\n",
    "df['Revenue growth'] = df['Revenue growth'].str.strip('%').astype(float)\n",
    "df['Revenue_in_crore'] = df['Revenue_in_crore'].str.replace(',','').astype(int)\n",
    "df['Profits_in_crore'] = df['Profits_in_crore'].str.replace(',','').astype(int)"
   ]
  },
  {
   "cell_type": "code",
   "execution_count": 75,
   "id": "1062e4e9-d3c7-4a89-b07f-03fee46af59d",
   "metadata": {
    "scrolled": true
   },
   "outputs": [
    {
     "data": {
      "text/html": [
       "<div>\n",
       "<style scoped>\n",
       "    .dataframe tbody tr th:only-of-type {\n",
       "        vertical-align: middle;\n",
       "    }\n",
       "\n",
       "    .dataframe tbody tr th {\n",
       "        vertical-align: top;\n",
       "    }\n",
       "\n",
       "    .dataframe thead th {\n",
       "        text-align: right;\n",
       "    }\n",
       "</style>\n",
       "<table border=\"1\" class=\"dataframe\">\n",
       "  <thead>\n",
       "    <tr style=\"text-align: right;\">\n",
       "      <th></th>\n",
       "      <th>Rank</th>\n",
       "      <th>Name</th>\n",
       "      <th>Industry</th>\n",
       "      <th>Revenue_in_crore</th>\n",
       "      <th>Revenue growth</th>\n",
       "      <th>Profits_in_crore</th>\n",
       "      <th>Headquarters</th>\n",
       "      <th>State Controlled</th>\n",
       "    </tr>\n",
       "  </thead>\n",
       "  <tbody>\n",
       "    <tr>\n",
       "      <th>0</th>\n",
       "      <td>1</td>\n",
       "      <td>Indian Oil Corporation</td>\n",
       "      <td>Oil and gas</td>\n",
       "      <td>424321</td>\n",
       "      <td>13.2</td>\n",
       "      <td>22189</td>\n",
       "      <td>New Delhi</td>\n",
       "      <td>Yes</td>\n",
       "    </tr>\n",
       "    <tr>\n",
       "      <th>1</th>\n",
       "      <td>2</td>\n",
       "      <td>Reliance Industries Limited</td>\n",
       "      <td>Oil and gas</td>\n",
       "      <td>410295</td>\n",
       "      <td>28.2</td>\n",
       "      <td>36075</td>\n",
       "      <td>Mumbai</td>\n",
       "      <td>NaN</td>\n",
       "    </tr>\n",
       "  </tbody>\n",
       "</table>\n",
       "</div>"
      ],
      "text/plain": [
       "   Rank                         Name     Industry  Revenue_in_crore  \\\n",
       "0     1       Indian Oil Corporation  Oil and gas            424321   \n",
       "1     2  Reliance Industries Limited  Oil and gas            410295   \n",
       "\n",
       "   Revenue growth  Profits_in_crore Headquarters State Controlled  \n",
       "0            13.2             22189    New Delhi              Yes  \n",
       "1            28.2             36075       Mumbai              NaN  "
      ]
     },
     "execution_count": 75,
     "metadata": {},
     "output_type": "execute_result"
    }
   ],
   "source": [
    "# For verifying\n",
    "\n",
    "df.head(2)"
   ]
  },
  {
   "cell_type": "code",
   "execution_count": 76,
   "id": "011c6a46-47b8-4419-a0b1-ce5f5397a6ff",
   "metadata": {},
   "outputs": [
    {
     "name": "stdout",
     "output_type": "stream",
     "text": [
      "<class 'pandas.core.frame.DataFrame'>\n",
      "RangeIndex: 50 entries, 0 to 49\n",
      "Data columns (total 8 columns):\n",
      " #   Column            Non-Null Count  Dtype  \n",
      "---  ------            --------------  -----  \n",
      " 0   Rank              50 non-null     int64  \n",
      " 1   Name              50 non-null     object \n",
      " 2   Industry          50 non-null     object \n",
      " 3   Revenue_in_crore  50 non-null     int32  \n",
      " 4   Revenue growth    50 non-null     float64\n",
      " 5   Profits_in_crore  50 non-null     int32  \n",
      " 6   Headquarters      50 non-null     object \n",
      " 7   State Controlled  20 non-null     object \n",
      "dtypes: float64(1), int32(2), int64(1), object(4)\n",
      "memory usage: 2.9+ KB\n"
     ]
    }
   ],
   "source": [
    "df.info()"
   ]
  },
  {
   "cell_type": "code",
   "execution_count": 77,
   "id": "7781d7e2-4c2a-42d6-b19b-27a892d9d306",
   "metadata": {},
   "outputs": [
    {
     "data": {
      "text/html": [
       "<div>\n",
       "<style scoped>\n",
       "    .dataframe tbody tr th:only-of-type {\n",
       "        vertical-align: middle;\n",
       "    }\n",
       "\n",
       "    .dataframe tbody tr th {\n",
       "        vertical-align: top;\n",
       "    }\n",
       "\n",
       "    .dataframe thead th {\n",
       "        text-align: right;\n",
       "    }\n",
       "</style>\n",
       "<table border=\"1\" class=\"dataframe\">\n",
       "  <thead>\n",
       "    <tr style=\"text-align: right;\">\n",
       "      <th></th>\n",
       "      <th>Rank</th>\n",
       "      <th>Revenue_in_crore</th>\n",
       "      <th>Revenue growth</th>\n",
       "      <th>Profits_in_crore</th>\n",
       "    </tr>\n",
       "  </thead>\n",
       "  <tbody>\n",
       "    <tr>\n",
       "      <th>count</th>\n",
       "      <td>50.00000</td>\n",
       "      <td>50.000000</td>\n",
       "      <td>50.000000</td>\n",
       "      <td>50.000000</td>\n",
       "    </tr>\n",
       "    <tr>\n",
       "      <th>mean</th>\n",
       "      <td>25.50000</td>\n",
       "      <td>103652.620000</td>\n",
       "      <td>14.180000</td>\n",
       "      <td>6466.380000</td>\n",
       "    </tr>\n",
       "    <tr>\n",
       "      <th>std</th>\n",
       "      <td>14.57738</td>\n",
       "      <td>98310.696233</td>\n",
       "      <td>11.101719</td>\n",
       "      <td>8457.129594</td>\n",
       "    </tr>\n",
       "    <tr>\n",
       "      <th>min</th>\n",
       "      <td>1.00000</td>\n",
       "      <td>30599.000000</td>\n",
       "      <td>0.400000</td>\n",
       "      <td>-12130.000000</td>\n",
       "    </tr>\n",
       "    <tr>\n",
       "      <th>25%</th>\n",
       "      <td>13.25000</td>\n",
       "      <td>43705.750000</td>\n",
       "      <td>5.550000</td>\n",
       "      <td>1696.000000</td>\n",
       "    </tr>\n",
       "    <tr>\n",
       "      <th>50%</th>\n",
       "      <td>25.50000</td>\n",
       "      <td>58051.500000</td>\n",
       "      <td>12.850000</td>\n",
       "      <td>6142.000000</td>\n",
       "    </tr>\n",
       "    <tr>\n",
       "      <th>75%</th>\n",
       "      <td>37.75000</td>\n",
       "      <td>120063.250000</td>\n",
       "      <td>19.725000</td>\n",
       "      <td>8922.000000</td>\n",
       "    </tr>\n",
       "    <tr>\n",
       "      <th>max</th>\n",
       "      <td>50.00000</td>\n",
       "      <td>424321.000000</td>\n",
       "      <td>54.900000</td>\n",
       "      <td>36075.000000</td>\n",
       "    </tr>\n",
       "  </tbody>\n",
       "</table>\n",
       "</div>"
      ],
      "text/plain": [
       "           Rank  Revenue_in_crore  Revenue growth  Profits_in_crore\n",
       "count  50.00000         50.000000       50.000000         50.000000\n",
       "mean   25.50000     103652.620000       14.180000       6466.380000\n",
       "std    14.57738      98310.696233       11.101719       8457.129594\n",
       "min     1.00000      30599.000000        0.400000     -12130.000000\n",
       "25%    13.25000      43705.750000        5.550000       1696.000000\n",
       "50%    25.50000      58051.500000       12.850000       6142.000000\n",
       "75%    37.75000     120063.250000       19.725000       8922.000000\n",
       "max    50.00000     424321.000000       54.900000      36075.000000"
      ]
     },
     "execution_count": 77,
     "metadata": {},
     "output_type": "execute_result"
    }
   ],
   "source": [
    "# Descriptive statistics\n",
    "\n",
    "df.describe()"
   ]
  },
  {
   "cell_type": "code",
   "execution_count": 8,
   "id": "1cd9057c-c3f4-4e24-8d70-7f985212ec74",
   "metadata": {
    "scrolled": true
   },
   "outputs": [
    {
     "data": {
      "text/html": [
       "<div>\n",
       "<style scoped>\n",
       "    .dataframe tbody tr th:only-of-type {\n",
       "        vertical-align: middle;\n",
       "    }\n",
       "\n",
       "    .dataframe tbody tr th {\n",
       "        vertical-align: top;\n",
       "    }\n",
       "\n",
       "    .dataframe thead th {\n",
       "        text-align: right;\n",
       "    }\n",
       "</style>\n",
       "<table border=\"1\" class=\"dataframe\">\n",
       "  <thead>\n",
       "    <tr style=\"text-align: right;\">\n",
       "      <th></th>\n",
       "      <th>Rank</th>\n",
       "      <th>Name</th>\n",
       "      <th>Industry</th>\n",
       "      <th>Revenue_in_crore</th>\n",
       "      <th>Revenue growth</th>\n",
       "      <th>Profits_in_crore</th>\n",
       "      <th>Headquarters</th>\n",
       "      <th>State Controlled</th>\n",
       "    </tr>\n",
       "  </thead>\n",
       "  <tbody>\n",
       "    <tr>\n",
       "      <th>1</th>\n",
       "      <td>2</td>\n",
       "      <td>Reliance Industries Limited</td>\n",
       "      <td>Oil and gas</td>\n",
       "      <td>410295</td>\n",
       "      <td>28.2</td>\n",
       "      <td>36075</td>\n",
       "      <td>Mumbai</td>\n",
       "      <td>NaN</td>\n",
       "    </tr>\n",
       "    <tr>\n",
       "      <th>4</th>\n",
       "      <td>5</td>\n",
       "      <td>Tata Motors</td>\n",
       "      <td>Automotive</td>\n",
       "      <td>301175</td>\n",
       "      <td>7.9</td>\n",
       "      <td>8989</td>\n",
       "      <td>Mumbai</td>\n",
       "      <td>NaN</td>\n",
       "    </tr>\n",
       "    <tr>\n",
       "      <th>7</th>\n",
       "      <td>8</td>\n",
       "      <td>Rajesh Exports</td>\n",
       "      <td>Gems and jewellery</td>\n",
       "      <td>187748</td>\n",
       "      <td>22.5</td>\n",
       "      <td>1266</td>\n",
       "      <td>Bangalore</td>\n",
       "      <td>NaN</td>\n",
       "    </tr>\n",
       "    <tr>\n",
       "      <th>8</th>\n",
       "      <td>9</td>\n",
       "      <td>Tata Steel</td>\n",
       "      <td>Iron and steel</td>\n",
       "      <td>147192</td>\n",
       "      <td>25.3</td>\n",
       "      <td>13434</td>\n",
       "      <td>Mumbai</td>\n",
       "      <td>NaN</td>\n",
       "    </tr>\n",
       "    <tr>\n",
       "      <th>10</th>\n",
       "      <td>11</td>\n",
       "      <td>Tata Consultancy Services</td>\n",
       "      <td>Infotech</td>\n",
       "      <td>126745</td>\n",
       "      <td>3.6</td>\n",
       "      <td>25826</td>\n",
       "      <td>Mumbai</td>\n",
       "      <td>NaN</td>\n",
       "    </tr>\n",
       "    <tr>\n",
       "      <th>11</th>\n",
       "      <td>12</td>\n",
       "      <td>Larsen &amp; Toubro</td>\n",
       "      <td>Capital goods</td>\n",
       "      <td>122743</td>\n",
       "      <td>10.6</td>\n",
       "      <td>7370</td>\n",
       "      <td>Mumbai</td>\n",
       "      <td>NaN</td>\n",
       "    </tr>\n",
       "    <tr>\n",
       "      <th>12</th>\n",
       "      <td>13</td>\n",
       "      <td>Hindalco Industries</td>\n",
       "      <td>Metals and mining</td>\n",
       "      <td>120428</td>\n",
       "      <td>15.5</td>\n",
       "      <td>6083</td>\n",
       "      <td>Mumbai</td>\n",
       "      <td>NaN</td>\n",
       "    </tr>\n",
       "    <tr>\n",
       "      <th>13</th>\n",
       "      <td>14</td>\n",
       "      <td>ICICI Bank</td>\n",
       "      <td>Banking</td>\n",
       "      <td>118969</td>\n",
       "      <td>4.9</td>\n",
       "      <td>7712</td>\n",
       "      <td>Mumbai</td>\n",
       "      <td>NaN</td>\n",
       "    </tr>\n",
       "    <tr>\n",
       "      <th>14</th>\n",
       "      <td>15</td>\n",
       "      <td>Vedanta Resources</td>\n",
       "      <td>Metals and mining</td>\n",
       "      <td>102192</td>\n",
       "      <td>30.8</td>\n",
       "      <td>10342</td>\n",
       "      <td>London, UK</td>\n",
       "      <td>NaN</td>\n",
       "    </tr>\n",
       "    <tr>\n",
       "      <th>15</th>\n",
       "      <td>16</td>\n",
       "      <td>HDFC Bank</td>\n",
       "      <td>Banking</td>\n",
       "      <td>101344</td>\n",
       "      <td>17.6</td>\n",
       "      <td>18510</td>\n",
       "      <td>Mumbai</td>\n",
       "      <td>NaN</td>\n",
       "    </tr>\n",
       "    <tr>\n",
       "      <th>16</th>\n",
       "      <td>17</td>\n",
       "      <td>Mahindra &amp; Mahindra</td>\n",
       "      <td>Automotive</td>\n",
       "      <td>96377</td>\n",
       "      <td>12.2</td>\n",
       "      <td>7510</td>\n",
       "      <td>Mumbai</td>\n",
       "      <td>NaN</td>\n",
       "    </tr>\n",
       "    <tr>\n",
       "      <th>18</th>\n",
       "      <td>19</td>\n",
       "      <td>Bharti Airtel</td>\n",
       "      <td>Telecommunication</td>\n",
       "      <td>86704</td>\n",
       "      <td>13.0</td>\n",
       "      <td>1099</td>\n",
       "      <td>New Delhi</td>\n",
       "      <td>NaN</td>\n",
       "    </tr>\n",
       "    <tr>\n",
       "      <th>19</th>\n",
       "      <td>20</td>\n",
       "      <td>Maruti Suzuki India</td>\n",
       "      <td>Automotive</td>\n",
       "      <td>81978</td>\n",
       "      <td>15.6</td>\n",
       "      <td>7880</td>\n",
       "      <td>New Delhi</td>\n",
       "      <td>NaN</td>\n",
       "    </tr>\n",
       "    <tr>\n",
       "      <th>20</th>\n",
       "      <td>21</td>\n",
       "      <td>Infosys</td>\n",
       "      <td>Infotech</td>\n",
       "      <td>73762</td>\n",
       "      <td>3.1</td>\n",
       "      <td>16029</td>\n",
       "      <td>Bangalore</td>\n",
       "      <td>NaN</td>\n",
       "    </tr>\n",
       "    <tr>\n",
       "      <th>21</th>\n",
       "      <td>22</td>\n",
       "      <td>Nayara Energy</td>\n",
       "      <td>Oil and gas</td>\n",
       "      <td>73015</td>\n",
       "      <td>10.7</td>\n",
       "      <td>576</td>\n",
       "      <td>Mumbai</td>\n",
       "      <td>NaN</td>\n",
       "    </tr>\n",
       "    <tr>\n",
       "      <th>22</th>\n",
       "      <td>23</td>\n",
       "      <td>HDFC</td>\n",
       "      <td>Financials</td>\n",
       "      <td>72596</td>\n",
       "      <td>18.9</td>\n",
       "      <td>16255</td>\n",
       "      <td>Mumbai</td>\n",
       "      <td>NaN</td>\n",
       "    </tr>\n",
       "    <tr>\n",
       "      <th>23</th>\n",
       "      <td>24</td>\n",
       "      <td>JSW Steel Ltd</td>\n",
       "      <td>Iron and steel</td>\n",
       "      <td>70148</td>\n",
       "      <td>22.6</td>\n",
       "      <td>6214</td>\n",
       "      <td>Mumbai</td>\n",
       "      <td>NaN</td>\n",
       "    </tr>\n",
       "    <tr>\n",
       "      <th>27</th>\n",
       "      <td>28</td>\n",
       "      <td>Grasim Industries</td>\n",
       "      <td>Diversified</td>\n",
       "      <td>57273</td>\n",
       "      <td>54.9</td>\n",
       "      <td>2679</td>\n",
       "      <td>Mumbai</td>\n",
       "      <td>NaN</td>\n",
       "    </tr>\n",
       "    <tr>\n",
       "      <th>28</th>\n",
       "      <td>29</td>\n",
       "      <td>Wipro</td>\n",
       "      <td>Infotech</td>\n",
       "      <td>56986</td>\n",
       "      <td>1.6</td>\n",
       "      <td>8003</td>\n",
       "      <td>Bangalore</td>\n",
       "      <td>NaN</td>\n",
       "    </tr>\n",
       "    <tr>\n",
       "      <th>29</th>\n",
       "      <td>30</td>\n",
       "      <td>Motherson Sumi Systems</td>\n",
       "      <td>Automotive</td>\n",
       "      <td>56839</td>\n",
       "      <td>32.7</td>\n",
       "      <td>1597</td>\n",
       "      <td>Noida</td>\n",
       "      <td>NaN</td>\n",
       "    </tr>\n",
       "    <tr>\n",
       "      <th>32</th>\n",
       "      <td>33</td>\n",
       "      <td>HCL Technologies</td>\n",
       "      <td>Infotech</td>\n",
       "      <td>51695</td>\n",
       "      <td>6.3</td>\n",
       "      <td>8721</td>\n",
       "      <td>Noida</td>\n",
       "      <td>NaN</td>\n",
       "    </tr>\n",
       "    <tr>\n",
       "      <th>35</th>\n",
       "      <td>36</td>\n",
       "      <td>ITC Limited</td>\n",
       "      <td>Consumer goods</td>\n",
       "      <td>44674</td>\n",
       "      <td>1.6</td>\n",
       "      <td>11271</td>\n",
       "      <td>Kolkata</td>\n",
       "      <td>NaN</td>\n",
       "    </tr>\n",
       "    <tr>\n",
       "      <th>38</th>\n",
       "      <td>39</td>\n",
       "      <td>Kotak Mahindra Bank</td>\n",
       "      <td>Banking</td>\n",
       "      <td>38813</td>\n",
       "      <td>14.2</td>\n",
       "      <td>6201</td>\n",
       "      <td>Mumbai</td>\n",
       "      <td>NaN</td>\n",
       "    </tr>\n",
       "    <tr>\n",
       "      <th>40</th>\n",
       "      <td>41</td>\n",
       "      <td>Hindustan Unilever</td>\n",
       "      <td>Consumer goods</td>\n",
       "      <td>36088</td>\n",
       "      <td>7.1</td>\n",
       "      <td>5214</td>\n",
       "      <td>Mumbai</td>\n",
       "      <td>NaN</td>\n",
       "    </tr>\n",
       "    <tr>\n",
       "      <th>41</th>\n",
       "      <td>42</td>\n",
       "      <td>Vodafone India</td>\n",
       "      <td>Telecommunication</td>\n",
       "      <td>34855</td>\n",
       "      <td>18.9</td>\n",
       "      <td>7766</td>\n",
       "      <td>Mumbai</td>\n",
       "      <td>NaN</td>\n",
       "    </tr>\n",
       "    <tr>\n",
       "      <th>42</th>\n",
       "      <td>43</td>\n",
       "      <td>Tata Power</td>\n",
       "      <td>Utilities</td>\n",
       "      <td>33213</td>\n",
       "      <td>12.8</td>\n",
       "      <td>2477</td>\n",
       "      <td>Mumbai</td>\n",
       "      <td>NaN</td>\n",
       "    </tr>\n",
       "    <tr>\n",
       "      <th>44</th>\n",
       "      <td>45</td>\n",
       "      <td>Hero MotoCorp</td>\n",
       "      <td>Automotive</td>\n",
       "      <td>33141</td>\n",
       "      <td>12.9</td>\n",
       "      <td>3720</td>\n",
       "      <td>New Delhi</td>\n",
       "      <td>NaN</td>\n",
       "    </tr>\n",
       "    <tr>\n",
       "      <th>45</th>\n",
       "      <td>46</td>\n",
       "      <td>Tech Mahindra</td>\n",
       "      <td>Infotech</td>\n",
       "      <td>32190</td>\n",
       "      <td>7.6</td>\n",
       "      <td>3800</td>\n",
       "      <td>Pune</td>\n",
       "      <td>NaN</td>\n",
       "    </tr>\n",
       "    <tr>\n",
       "      <th>46</th>\n",
       "      <td>47</td>\n",
       "      <td>UltraTech Cement</td>\n",
       "      <td>Cement</td>\n",
       "      <td>32106</td>\n",
       "      <td>23.7</td>\n",
       "      <td>2222</td>\n",
       "      <td>Mumbai</td>\n",
       "      <td>NaN</td>\n",
       "    </tr>\n",
       "    <tr>\n",
       "      <th>49</th>\n",
       "      <td>50</td>\n",
       "      <td>Bajaj Finserv</td>\n",
       "      <td>Financials</td>\n",
       "      <td>30599</td>\n",
       "      <td>24.9</td>\n",
       "      <td>2741</td>\n",
       "      <td>Pune</td>\n",
       "      <td>NaN</td>\n",
       "    </tr>\n",
       "  </tbody>\n",
       "</table>\n",
       "</div>"
      ],
      "text/plain": [
       "    Rank                         Name            Industry  Revenue_in_crore  \\\n",
       "1      2  Reliance Industries Limited         Oil and gas            410295   \n",
       "4      5                  Tata Motors          Automotive            301175   \n",
       "7      8               Rajesh Exports  Gems and jewellery            187748   \n",
       "8      9                   Tata Steel      Iron and steel            147192   \n",
       "10    11    Tata Consultancy Services            Infotech            126745   \n",
       "11    12              Larsen & Toubro       Capital goods            122743   \n",
       "12    13          Hindalco Industries   Metals and mining            120428   \n",
       "13    14                   ICICI Bank             Banking            118969   \n",
       "14    15            Vedanta Resources   Metals and mining            102192   \n",
       "15    16                    HDFC Bank             Banking            101344   \n",
       "16    17          Mahindra & Mahindra          Automotive             96377   \n",
       "18    19                Bharti Airtel   Telecommunication             86704   \n",
       "19    20          Maruti Suzuki India          Automotive             81978   \n",
       "20    21                      Infosys            Infotech             73762   \n",
       "21    22                Nayara Energy         Oil and gas             73015   \n",
       "22    23                         HDFC          Financials             72596   \n",
       "23    24                JSW Steel Ltd      Iron and steel             70148   \n",
       "27    28            Grasim Industries         Diversified             57273   \n",
       "28    29                        Wipro            Infotech             56986   \n",
       "29    30       Motherson Sumi Systems          Automotive             56839   \n",
       "32    33             HCL Technologies            Infotech             51695   \n",
       "35    36                  ITC Limited      Consumer goods             44674   \n",
       "38    39          Kotak Mahindra Bank             Banking             38813   \n",
       "40    41           Hindustan Unilever      Consumer goods             36088   \n",
       "41    42               Vodafone India   Telecommunication             34855   \n",
       "42    43                   Tata Power           Utilities             33213   \n",
       "44    45                Hero MotoCorp          Automotive             33141   \n",
       "45    46                Tech Mahindra            Infotech             32190   \n",
       "46    47             UltraTech Cement              Cement             32106   \n",
       "49    50                Bajaj Finserv          Financials             30599   \n",
       "\n",
       "    Revenue growth  Profits_in_crore Headquarters State Controlled  \n",
       "1             28.2             36075       Mumbai              NaN  \n",
       "4              7.9              8989       Mumbai              NaN  \n",
       "7             22.5              1266    Bangalore              NaN  \n",
       "8             25.3             13434       Mumbai              NaN  \n",
       "10             3.6             25826       Mumbai              NaN  \n",
       "11            10.6              7370       Mumbai              NaN  \n",
       "12            15.5              6083       Mumbai              NaN  \n",
       "13             4.9              7712       Mumbai              NaN  \n",
       "14            30.8             10342   London, UK              NaN  \n",
       "15            17.6             18510       Mumbai              NaN  \n",
       "16            12.2              7510       Mumbai              NaN  \n",
       "18            13.0              1099    New Delhi              NaN  \n",
       "19            15.6              7880    New Delhi              NaN  \n",
       "20             3.1             16029    Bangalore              NaN  \n",
       "21            10.7               576       Mumbai              NaN  \n",
       "22            18.9             16255       Mumbai              NaN  \n",
       "23            22.6              6214       Mumbai              NaN  \n",
       "27            54.9              2679       Mumbai              NaN  \n",
       "28             1.6              8003    Bangalore              NaN  \n",
       "29            32.7              1597        Noida              NaN  \n",
       "32             6.3              8721        Noida              NaN  \n",
       "35             1.6             11271      Kolkata              NaN  \n",
       "38            14.2              6201       Mumbai              NaN  \n",
       "40             7.1              5214       Mumbai              NaN  \n",
       "41            18.9              7766       Mumbai              NaN  \n",
       "42            12.8              2477       Mumbai              NaN  \n",
       "44            12.9              3720    New Delhi              NaN  \n",
       "45             7.6              3800         Pune              NaN  \n",
       "46            23.7              2222       Mumbai              NaN  \n",
       "49            24.9              2741         Pune              NaN  "
      ]
     },
     "execution_count": 8,
     "metadata": {},
     "output_type": "execute_result"
    }
   ],
   "source": [
    "# NaN() values\n",
    "\n",
    "df_empty = df[df['State Controlled'].isnull()]\n",
    "df_empty"
   ]
  },
  {
   "cell_type": "code",
   "execution_count": 11,
   "id": "c5c4e67a-23bf-4017-b32c-3b7fb6327abd",
   "metadata": {},
   "outputs": [],
   "source": [
    "# Replace NaN value with 'No' in existing dataset (df)\n",
    "\n",
    "df.fillna('No',inplace = True)"
   ]
  },
  {
   "cell_type": "code",
   "execution_count": 14,
   "id": "c0176f44-541e-41b5-8301-a7a24120c1d7",
   "metadata": {},
   "outputs": [
    {
     "name": "stdout",
     "output_type": "stream",
     "text": [
      "<class 'pandas.core.series.Series'>\n",
      "RangeIndex: 50 entries, 0 to 49\n",
      "Series name: State Controlled\n",
      "Non-Null Count  Dtype \n",
      "--------------  ----- \n",
      "50 non-null     object\n",
      "dtypes: object(1)\n",
      "memory usage: 532.0+ bytes\n"
     ]
    }
   ],
   "source": [
    "# To check null value\n",
    "\n",
    "df['State Controlled'].info()"
   ]
  },
  {
   "cell_type": "code",
   "execution_count": 50,
   "id": "4f17f2f2-042a-4438-818d-f3512f09a975",
   "metadata": {},
   "outputs": [
    {
     "data": {
      "text/plain": [
       "Headquarters\n",
       "Bangalore      4\n",
       "Chennai        1\n",
       "Gurgaon        1\n",
       "Kolkata        2\n",
       "London, UK     1\n",
       "Mangalore      1\n",
       "Mumbai        25\n",
       "New Delhi     10\n",
       "Noida          2\n",
       "Pune           2\n",
       "Vadodara       1\n",
       "Name: Industry, dtype: int64"
      ]
     },
     "execution_count": 50,
     "metadata": {},
     "output_type": "execute_result"
    }
   ],
   "source": [
    "# No. of industry in each location\n",
    "\n",
    "group_cities = df.groupby('Headquarters')\n",
    "industry_cities = group_cities['Industry'].count()\n",
    "industry_cities"
   ]
  },
  {
   "cell_type": "code",
   "execution_count": 49,
   "id": "8dd3b701-2724-4e00-b0d4-6971ee55d533",
   "metadata": {},
   "outputs": [
    {
     "data": {
      "text/plain": [
       "Industry\n",
       "Automotive             5\n",
       "Banking               10\n",
       "Capital goods          1\n",
       "Cement                 1\n",
       "Consumer goods         2\n",
       "Diversified            1\n",
       "Financials             2\n",
       "Gems and jewellery     1\n",
       "Infotech               5\n",
       "Insurance              1\n",
       "Iron and steel         3\n",
       "Metals and mining      3\n",
       "Oil and gas           10\n",
       "Telecommunication      2\n",
       "Utilities              3\n",
       "Name: Name, dtype: int64"
      ]
     },
     "execution_count": 49,
     "metadata": {},
     "output_type": "execute_result"
    }
   ],
   "source": [
    "# No. of company in each industry\n",
    "\n",
    "group_industry = df.groupby('Industry')\n",
    "industry_company = group_industry['Name'].count()\n",
    "industry_company"
   ]
  },
  {
   "cell_type": "code",
   "execution_count": 53,
   "id": "b7147bc4-db37-43be-8df1-3b08e95914b1",
   "metadata": {},
   "outputs": [
    {
     "data": {
      "text/plain": [
       "Headquarters\n",
       "Bangalore      4\n",
       "Chennai        1\n",
       "Gurgaon        1\n",
       "Kolkata        2\n",
       "London, UK     1\n",
       "Mangalore      1\n",
       "Mumbai        25\n",
       "New Delhi     10\n",
       "Noida          2\n",
       "Pune           2\n",
       "Vadodara       1\n",
       "Name: Name, dtype: int64"
      ]
     },
     "execution_count": 53,
     "metadata": {},
     "output_type": "execute_result"
    }
   ],
   "source": [
    "# No. of companies in each location\n",
    "\n",
    "group_cities = df.groupby('Headquarters')\n",
    "industry_name = group_cities['Name'].count()\n",
    "industry_name"
   ]
  },
  {
   "cell_type": "code",
   "execution_count": 52,
   "id": "31e2aa74-621d-49e2-adeb-a6fe06ecc283",
   "metadata": {},
   "outputs": [
    {
     "data": {
      "text/plain": [
       "Industry\n",
       "Automotive            113902.000000\n",
       "Banking                86710.100000\n",
       "Capital goods         122743.000000\n",
       "Cement                 32106.000000\n",
       "Consumer goods         40381.000000\n",
       "Diversified            57273.000000\n",
       "Financials             51597.500000\n",
       "Gems and jewellery    187748.000000\n",
       "Infotech               68275.600000\n",
       "Insurance              43555.000000\n",
       "Iron and steel         91655.333333\n",
       "Metals and mining     118505.666667\n",
       "Oil and gas           187095.300000\n",
       "Telecommunication      60779.500000\n",
       "Utilities              51421.666667\n",
       "Name: Revenue_in_crore, dtype: float64"
      ]
     },
     "execution_count": 52,
     "metadata": {},
     "output_type": "execute_result"
    }
   ],
   "source": [
    "# Average revenue in industry wise (in crore)\n",
    "\n",
    "group_rev = df.groupby('Industry')\n",
    "industry_revenue = group_rev['Revenue_in_crore'].mean()\n",
    "industry_revenue"
   ]
  },
  {
   "cell_type": "code",
   "execution_count": 31,
   "id": "a1bab63d-5135-4435-8410-cb70a5c7aeca",
   "metadata": {},
   "outputs": [
    {
     "data": {
      "image/png": "[encoded data removed]",
      "text/plain": [
       "<Figure size 640x480 with 1 Axes>"
      ]
     },
     "metadata": {},
     "output_type": "display_data"
    }
   ],
   "source": [
    "# Bar graph\n",
    "\n",
    "plt.bar(df['Industry'],df['Revenue_in_crore'],color = 'skyblue')\n",
    "plt.title('Industry Vs Revenue(in cr)')\n",
    "plt.xlabel('Industry')\n",
    "plt.ylabel('Revenue in crore')\n",
    "plt.xticks(rotation = 45, ha = 'right')\n",
    "plt.show()"
   ]
  },
  {
   "cell_type": "code",
   "execution_count": 33,
   "id": "f2bb3d94-0b32-4aaa-8503-65b7424ee928",
   "metadata": {},
   "outputs": [
    {
     "data": {
      "text/plain": [
       "Text(0.5, 0, 'Revenue')"
      ]
     },
     "execution_count": 33,
     "metadata": {},
     "output_type": "execute_result"
    },
    {
     "data": {
      "image/png": "[encoded data removed]",
      "text/plain": [
       "<Figure size 640x480 with 1 Axes>"
      ]
     },
     "metadata": {},
     "output_type": "display_data"
    }
   ],
   "source": [
    "# Histogram\n",
    "\n",
    "plt.hist(industry_revenue)\n",
    "plt.title('Distibution of revenue respective to industry')\n",
    "plt.xlabel('Revenue')"
   ]
  },
  {
   "cell_type": "code",
   "execution_count": 51,
   "id": "5909b1ef-c5f1-470e-9254-01072c430ef9",
   "metadata": {},
   "outputs": [
    {
     "data": {
      "text/plain": [
       "Industry\n",
       "Automotive             5939.200000\n",
       "Banking                 -81.800000\n",
       "Capital goods          7370.000000\n",
       "Cement                 2222.000000\n",
       "Consumer goods         8242.500000\n",
       "Diversified            2679.000000\n",
       "Financials             9498.000000\n",
       "Gems and jewellery     1266.000000\n",
       "Infotech              12475.800000\n",
       "Insurance              3146.000000\n",
       "Iron and steel         6455.666667\n",
       "Metals and mining      7815.000000\n",
       "Oil and gas           10700.200000\n",
       "Telecommunication      4432.500000\n",
       "Utilities              7073.000000\n",
       "Name: Profits_in_crore, dtype: float64"
      ]
     },
     "execution_count": 51,
     "metadata": {},
     "output_type": "execute_result"
    }
   ],
   "source": [
    "# Average profit in industry wise (in crore)\n",
    "\n",
    "group_pro = df.groupby('Industry')\n",
    "industry_profit = group_pro['Profits_in_crore'].mean()\n",
    "industry_profit"
   ]
  },
  {
   "cell_type": "code",
   "execution_count": 49,
   "id": "4fa1137c-787b-48b3-8242-91ca125a3420",
   "metadata": {},
   "outputs": [],
   "source": [
    "# Applying condition for negative values\n",
    "\n",
    "colors = ['orange' if x>=0 else 'red' for x in df['Profits_in_crore']]"
   ]
  },
  {
   "cell_type": "code",
   "execution_count": 46,
   "id": "d8ed0c07-b4aa-4bb6-a725-9258aea5f3e4",
   "metadata": {},
   "outputs": [
    {
     "data": {
      "image/png": "[encoded data removed]",
      "text/plain": [
       "<Figure size 640x480 with 1 Axes>"
      ]
     },
     "metadata": {},
     "output_type": "display_data"
    }
   ],
   "source": [
    "plt.barh(df['Industry'],df['Profits_in_crore'],color = colors)\n",
    "plt.title('Industry Vs Profit(in cr)')\n",
    "plt.xlabel('Industry')\n",
    "plt.ylabel('Profit in crore')\n",
    "plt.show()"
   ]
  },
  {
   "cell_type": "code",
   "execution_count": 36,
   "id": "410d3c71-2104-4f57-9162-9c65cb1f2330",
   "metadata": {},
   "outputs": [
    {
     "data": {
      "text/plain": [
       "Text(0.5, 0, 'Profit')"
      ]
     },
     "execution_count": 36,
     "metadata": {},
     "output_type": "execute_result"
    },
    {
     "data": {
      "image/png": "[encoded data removed]",
      "text/plain": [
       "<Figure size 640x480 with 1 Axes>"
      ]
     },
     "metadata": {},
     "output_type": "display_data"
    }
   ],
   "source": [
    "plt.hist(industry_profit)\n",
    "plt.title('Distibution of profit respective to industry')\n",
    "plt.xlabel('Profit')"
   ]
  },
  {
   "cell_type": "code",
   "execution_count": 83,
   "id": "8d8a3ea8-4f94-43d3-80a1-b7bdaa393b02",
   "metadata": {},
   "outputs": [
    {
     "data": {
      "text/plain": [
       "Index(['Rank', 'Name', 'Industry', 'Revenue_in_crore', 'Revenue growth',\n",
       "       'Profits_in_crore', 'Headquarters', 'State Controlled'],\n",
       "      dtype='object')"
      ]
     },
     "execution_count": 83,
     "metadata": {},
     "output_type": "execute_result"
    }
   ],
   "source": [
    "df.columns"
   ]
  },
  {
   "cell_type": "code",
   "execution_count": 94,
   "id": "5ddd583a-794b-4e79-b8cf-26fba1238cd3",
   "metadata": {},
   "outputs": [
    {
     "data": {
      "text/plain": [
       "<BarContainer object of 50 artists>"
      ]
     },
     "execution_count": 94,
     "metadata": {},
     "output_type": "execute_result"
    },
    {
     "data": {
      "image/png": "[encoded data removed]",
      "text/plain": [
       "<Figure size 640x480 with 1 Axes>"
      ]
     },
     "metadata": {},
     "output_type": "display_data"
    }
   ],
   "source": [
    "plt.barh(df['Industry'],df['Revenue growth'])"
   ]
  },
  {
   "cell_type": "code",
   "execution_count": null,
   "id": "6bc67c7a-a5ca-46f6-93ed-33d70b324f76",
   "metadata": {},
   "outputs": [],
   "source": []
  }
 ],
 "metadata": {
  "kernelspec": {
   "display_name": "Python 3 (ipykernel)",
   "language": "python",
   "name": "python3"
  },
  "language_info": {
   "codemirror_mode": {
    "name": "ipython",
    "version": 3
   },
   "file_extension": ".py",
   "mimetype": "text/x-python",
   "name": "python",
   "nbconvert_exporter": "python",
   "pygments_lexer": "ipython3",
   "version": "3.11.7"
  }
 },
 "nbformat": 4,
 "nbformat_minor": 5
}
